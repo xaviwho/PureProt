{
 "cells": [
  {
   "cell_type": "code",
   "execution_count": 8,
   "id": "35006e06-b407-476c-8076-669b833f51af",
   "metadata": {},
   "outputs": [],
   "source": [
    "import pandas as pd\n",
    "import numpy as np\n",
    "import requests\n",
    "from pathlib import Path\n",
    "import joblib\n",
    "\n",
    "from rdkit import Chem\n",
    "from rdkit.Chem import AllChem\n",
    "from rdkit.Chem import rdFingerprintGenerator\n",
    "\n",
    "from sklearn.model_selection import train_test_split\n",
    "from sklearn.svm import SVR\n",
    "from sklearn.metrics import r2_score\n",
    "\n",
    "# Define file paths\n",
    "DATA_DIR = Path('./modeling/data')\n",
    "DATA_FILE = DATA_DIR / 'chembl_2487_data.csv'\n",
    "MODEL_FILE = Path('./modeling/models/svr_model.joblib')\n",
    "\n",
    "# Ensure directories exist\n",
    "DATA_DIR.mkdir(exist_ok=True)\n",
    "MODEL_FILE.parent.mkdir(exist_ok=True)"
   ]
  },
  {
   "cell_type": "code",
   "execution_count": 9,
   "id": "2118574b-8da8-4866-bb44-433adbccf996",
   "metadata": {},
   "outputs": [],
   "source": [
    "# Create the generator once with the desired parameters\n",
    "fpgen = rdFingerprintGenerator.GetMorganGenerator(radius=2, fpSize=2048)\n",
    "\n",
    "def prepare_training_data():\n",
    "    if DATA_FILE.exists():\n",
    "        print(f\"Found existing training data at {DATA_FILE}\")\n",
    "        return\n",
    "    \n",
    "    print(f\"Training data not found. Downloading from ChEMBL...\")\n",
    "    url = 'https://www.ebi.ac.uk/chembl/api/data/activity.json?target_chembl_id=CHEMBL2487&pchembl_value__isnull=false&limit=1000'\n",
    "    \n",
    "    try:\n",
    "        response = requests.get(url)\n",
    "        response.raise_for_status()\n",
    "        data = response.json()\n",
    "        activities = data['activities']\n",
    "        df = pd.DataFrame(activities)\n",
    "        \n",
    "        if 'canonical_smiles' not in df.columns or 'pchembl_value' not in df.columns:\n",
    "            print(f\"Error: Required columns not in response. Available columns: {df.columns.tolist()}\")\n",
    "            return\n",
    "        \n",
    "        df = df[['canonical_smiles', 'pchembl_value']]\n",
    "        df.rename(columns={'pchembl_value': 'pIC50'}, inplace=True)\n",
    "        df['pIC50'] = pd.to_numeric(df['pIC50'], errors='coerce')\n",
    "        df = df.dropna()\n",
    "        df.to_csv(DATA_FILE, index=False)\n",
    "        print(f\"Successfully downloaded and saved training data to {DATA_FILE}\")\n",
    "    except Exception as e:\n",
    "        print(f\"Failed to download or process training data: {e}\")\n",
    "        raise\n",
    "\n",
    "def smiles_to_fp(smiles):\n",
    "    \"\"\"Converts a SMILES string to a Morgan fingerprint using the modern RDKit API.\"\"\"\n",
    "    try:\n",
    "        mol = Chem.MolFromSmiles(smiles)\n",
    "        if mol is None:\n",
    "            return None\n",
    "        # Use the new generator to get the fingerprint\n",
    "        return fpgen.GetFingerprint(mol)\n",
    "    except:\n",
    "        return None"
   ]
  },
  {
   "cell_type": "code",
   "execution_count": 10,
   "id": "5392f1dd-0c84-448f-8482-dea713cb42d2",
   "metadata": {},
   "outputs": [
    {
     "name": "stdout",
     "output_type": "stream",
     "text": [
      "Found existing training data at modeling\\data\\chembl_2487_data.csv\n"
     ]
    }
   ],
   "source": [
    "prepare_training_data()"
   ]
  },
  {
   "cell_type": "code",
   "execution_count": 11,
   "id": "be5867b5-0a8d-42e8-b16c-0ea707c47f1b",
   "metadata": {},
   "outputs": [
    {
     "name": "stdout",
     "output_type": "stream",
     "text": [
      "Loading dataset...\n",
      "Generating Morgan fingerprints from SMILES...\n",
      "Generated 999 fingerprints.\n"
     ]
    }
   ],
   "source": [
    "print(\"Loading dataset...\")\n",
    "df = pd.read_csv(DATA_FILE)\n",
    "\n",
    "print(\"Generating Morgan fingerprints from SMILES...\")\n",
    "df['fingerprint'] = df['canonical_smiles'].apply(smiles_to_fp)\n",
    "df = df.dropna(subset=['fingerprint'])\n",
    "\n",
    "X = np.array(df['fingerprint'].tolist())\n",
    "y = df['pIC50'].values\n",
    "\n",
    "print(f\"Generated {len(X)} fingerprints.\")"
   ]
  },
  {
   "cell_type": "code",
   "execution_count": 12,
   "id": "84999b3d-a16b-499d-800a-3ea3c3f11005",
   "metadata": {},
   "outputs": [
    {
     "name": "stdout",
     "output_type": "stream",
     "text": [
      "Training SVR model on 799 samples...\n",
      "Model training complete.\n"
     ]
    }
   ],
   "source": [
    "X_train, X_test, y_train, y_test = train_test_split(X, y, test_size=0.2, random_state=42)\n",
    "\n",
    "print(f\"Training SVR model on {len(X_train)} samples...\")\n",
    "model = SVR(kernel='rbf', C=1.0, epsilon=0.1)\n",
    "model.fit(X_train, y_train)\n",
    "\n",
    "print(\"Model training complete.\")"
   ]
  },
  {
   "cell_type": "code",
   "execution_count": 13,
   "id": "333a43e9-0c79-4726-8c6d-02ad93f266fe",
   "metadata": {},
   "outputs": [
    {
     "name": "stdout",
     "output_type": "stream",
     "text": [
      "Evaluating model performance on the test set...\n",
      "Test Set R-squared (R2): 0.7855\n"
     ]
    }
   ],
   "source": [
    "print(\"Evaluating model performance on the test set...\")\n",
    "y_pred = model.predict(X_test)\n",
    "r2 = r2_score(y_test, y_pred)\n",
    "\n",
    "print(f\"Test Set R-squared (R2): {r2:.4f}\")"
   ]
  },
  {
   "cell_type": "code",
   "execution_count": 14,
   "id": "e96034d4-4054-4f24-8d55-aac8978cf520",
   "metadata": {},
   "outputs": [
    {
     "name": "stdout",
     "output_type": "stream",
     "text": [
      "Saving model to modeling\\models\\svr_model.joblib...\n",
      "Model saved successfully.\n"
     ]
    }
   ],
   "source": [
    "print(f\"Saving model to {MODEL_FILE}...\")\n",
    "joblib.dump(model, MODEL_FILE)\n",
    "print(\"Model saved successfully.\")"
   ]
  },
  {
   "cell_type": "code",
   "execution_count": null,
   "id": "d5947724-f1b2-49c7-a02a-d8fe9dfabbbc",
   "metadata": {},
   "outputs": [],
   "source": []
  }
 ],
 "metadata": {
  "kernelspec": {
   "display_name": "Python 3 (ipykernel)",
   "language": "python",
   "name": "python3"
  },
  "language_info": {
   "codemirror_mode": {
    "name": "ipython",
    "version": 3
   },
   "file_extension": ".py",
   "mimetype": "text/x-python",
   "name": "python",
   "nbconvert_exporter": "python",
   "pygments_lexer": "ipython3",
   "version": "3.13.5"
  }
 },
 "nbformat": 4,
 "nbformat_minor": 5
}
